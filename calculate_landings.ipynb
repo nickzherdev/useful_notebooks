{
 "cells": [
  {
   "cell_type": "code",
   "execution_count": 2,
   "metadata": {},
   "outputs": [],
   "source": [
    "import numpy as np\n",
    "import matplotlib.pyplot as plt\n",
    "from matplotlib.pyplot import figure"
   ]
  },
  {
   "cell_type": "code",
   "execution_count": 2,
   "metadata": {},
   "outputs": [],
   "source": [
    "# coordinates_list = [[0.9, 0.9],\n",
    "#                     [0.8, 1],\n",
    "#                     [0.9, 1.1],\n",
    "#                     [1, 1]]\n",
    "\n",
    "\n",
    "# a = ([[  6.48076197,   9.86263944,  -0.27829966],\n",
    "#        [  5.51923803,  10.13736056,  -0.27829966],\n",
    "#        [  7.14367394,   7.47891314,   1.27933953],\n",
    "#        [  6.85632606,   6.52108686,   1.27933953],\n",
    "#        [ 10.48809353,  10.10846523,  -2.92292371],\n",
    "#        [  9.51190647,   9.89153477,  -2.92292371],\n",
    "#        [  8.08219949,  11.49319696,  -1.735945  ],\n",
    "#        [  7.91780051,  10.50680304,  -1.735945  ]])\n",
    "\n",
    "# print(filter_outer(a))"
   ]
  },
  {
   "cell_type": "code",
   "execution_count": 3,
   "metadata": {},
   "outputs": [],
   "source": [
    "def get_rt(alpha, x):\n",
    "    s, c = np.sin(alpha), np.cos(alpha)\n",
    "    r = np.array([[c, s], [-s, c]])\n",
    "    rotated = np.dot(r, x)\n",
    "    return rotated\n",
    "\n",
    "def calculate_distance(coords1, coords2):\n",
    "    theta_diff = None\n",
    "    distance_map_frame = coords2[:2] - coords1[:2]\n",
    "    if len(coords1) == 3 and len(coords2) == 3:\n",
    "        theta_diff = wrap_angle(coords2[2] - coords1[2])\n",
    "    return distance_map_frame, theta_diff\n",
    "\n",
    "def wrap_angle(angle):\n",
    "    \"\"\"\n",
    "    Wraps the given angle to the range [-pi, +pi].\n",
    "    :param angle: The angle (in rad) to wrap (can be unbounded).\n",
    "    :return: The wrapped angle (guaranteed to in [-pi, +pi]).\n",
    "    \"\"\"\n",
    "    return (angle + np.pi) % (np.pi * 2) - np.pi\n",
    "\n",
    "def rotate(a, b, c):\n",
    "    return (b[0] - a[0]) * (c[1] - b[1]) - (b[1] - a[1]) * (c[0] - b[0])\n",
    "\n",
    "def find_outer(coords):\n",
    "    \"\"\"\n",
    "    filter out inner landings\n",
    "    input: [(x0, y0), (x1, y1), ...]\n",
    "    jarvis march\n",
    "    :return: convex hull, list of coordinates, TODO counter or clockwise, need to figure out\n",
    "    \"\"\"\n",
    "    a = coords\n",
    "    n = len(a)\n",
    "    p = range(n)\n",
    "    # start point\n",
    "    for i in range(1, n):\n",
    "        if a[p[i]][0] < a[p[0]][0]:\n",
    "            p[i], p[0] = p[0], p[i]\n",
    "    h = [p[0]]\n",
    "    del p[0]\n",
    "    p.append(h[0])\n",
    "    while True:\n",
    "        right = 0\n",
    "        for i in range(1, len(p)):\n",
    "            if rotate(a[h[-1]], a[p[right]], a[p[i]]) < 0:  # FIXME\n",
    "                right = i\n",
    "        if p[right] == h[0]:\n",
    "            break\n",
    "        else:\n",
    "            h.append(p[right])\n",
    "            del p[right]\n",
    "    #hull = [a[i] for i in h]\n",
    "    return h\n",
    "\n",
    "def transformation_matrix(x, y, theta):\n",
    "    return np.array([[np.cos(theta), -np.sin(theta), x],\n",
    "                     [np.sin(theta), np.cos(theta), y],\n",
    "                     [0, 0, 1]])\n",
    "\n",
    "def plot_vehicle(x, y, theta):\n",
    "    # Corners of triangular vehicle when pointing to the right (0 radians)\n",
    "\n",
    "    p1_i = np.array([0.03, 0, 1]).T\n",
    "    p2_i = np.array([-0.02, 0.01, 1]).T\n",
    "    p3_i = np.array([-0.02, -0.01, 1]).T\n",
    "\n",
    "    T = transformation_matrix(x, y, theta)\n",
    "    p1 = np.matmul(T, p1_i)\n",
    "    p2 = np.matmul(T, p2_i)\n",
    "    p3 = np.matmul(T, p3_i)\n",
    "\n",
    "    ax.plot([p1[0], p2[0]], [p1[1], p2[1]], 'g-')\n",
    "    ax.plot([p2[0], p3[0]], [p2[1], p3[1]], 'g-')\n",
    "    ax.plot([p3[0], p1[0]], [p3[1], p1[1]], 'g-')"
   ]
  },
  {
   "cell_type": "code",
   "execution_count": 4,
   "metadata": {},
   "outputs": [],
   "source": [
    "# pucks_in_frame = np.array([[0.6, 0.10], [0.7, 0.7], [0.10, 0.10], [0.8, 0.11]])\n",
    "\n",
    "pucks_in_frame = np.array([[0.7, 0.8],\n",
    "                            [0.9, 0.9],\n",
    "                            [1.1, 0.85],\n",
    "                            [0.9, 1.1]])\n",
    "\n",
    "# hull = [[9, 9],\n",
    "#         [8, 10],\n",
    "#         [9, 11],\n",
    "#         [10, 10]]\n",
    "\n",
    "# rot_hull = [get_rt(0, node) for node in hull]\n",
    "# rot_hull = np.array(rot_hull)\n",
    "\n",
    "# pucks_in_frame = np.array([[0.93900626, 0.99461677],\n",
    "#                              [1.04959243, 1.00593718],\n",
    "#                              [1.05693593, 1.12152614],\n",
    "#                              [0.94454928, 1.14355901]])\n",
    "\n",
    "# pucks_in_frame = np.array([[0.93900626, 0.99461677],\n",
    "#                              [1.04959243, 1.00593718],\n",
    "#                              [1.05693593, 1.12152614]])\n",
    "\n",
    "ind = find_outer(pucks_in_frame)\n",
    "rot_hull = np.array([pucks_in_frame[i] for i in ind])\n",
    "\n",
    "approach_dist = 0.11  # cm\n",
    "mc = np.mean(rot_hull, axis = 0)\n",
    "offset = list(rot_hull)  # a miserable attempt to copy a list\n",
    "offset -= mc  # Normalize the polygon by subtracting the center values from every point.\n",
    "offset *= 2\n",
    "offset += mc"
   ]
  },
  {
   "cell_type": "code",
   "execution_count": 5,
   "metadata": {},
   "outputs": [],
   "source": [
    "landings_coordinates = []\n",
    "for orig, ofs in zip(rot_hull, offset):\n",
    "#     print(\" \")\n",
    "#     print(\"orig\")\n",
    "#     print(orig)\n",
    "#     print(\" \")\n",
    "#     print(\"ofs\")\n",
    "#     print(ofs)\n",
    "    dist, _ = calculate_distance(ofs, orig)\n",
    "#     print(dist)\n",
    "    gamma = np.arctan2(dist[1], dist[0])  # and here we calculate slope of outer bis\n",
    "    # print(\"gamma = \", np.rad2deg(gamma))\n",
    "    x_landing1 = np.sqrt(approach_dist**2 / (1 + np.tan(gamma)**2))\n",
    "    x_landing2 = - np.sqrt(approach_dist**2 / (1 + np.tan(gamma)**2))\n",
    "    \n",
    "    y_landing1 = np.tan(gamma) * x_landing1 \n",
    "    y_landing2 = np.tan(gamma) * x_landing2\n",
    "    \n",
    "    landing1 = np.array([x_landing1 + orig[0], y_landing1 + orig[1], gamma])  # np.rad2deg\n",
    "    landing2 = np.array([x_landing2 + orig[0], y_landing2 + orig[1], gamma])\n",
    "    landings_coordinates.append(landing1)\n",
    "    landings_coordinates.append(landing2)\n",
    "    \n",
    "landings = np.array(landings_coordinates)\n",
    "# print(landings)\n",
    "ind_land = find_outer(landings[:, :2])\n",
    "# print(ind_land)\n",
    "landings = np.array([landings_coordinates[i] for i in ind_land])"
   ]
  },
  {
   "cell_type": "code",
   "execution_count": 6,
   "metadata": {},
   "outputs": [],
   "source": [
    "test = np.array([[0.812, 0.834, 0.64350111], \n",
    "                [0.85532477, 1.20051927, 5.13061331],\n",
    "                [1.188, 0.784, 2.49809154]])"
   ]
  },
  {
   "cell_type": "code",
   "execution_count": 12,
   "metadata": {},
   "outputs": [
    {
     "data": {
      "text/plain": [
       "<matplotlib.figure.Figure at 0x7f8f5485a990>"
      ]
     },
     "metadata": {},
     "output_type": "display_data"
    },
    {
     "data": {
      "image/png": "[encoded data removed]",
      "text/plain": [
       "<matplotlib.figure.Figure at 0x7f8f5485a950>"
      ]
     },
     "metadata": {},
     "output_type": "display_data"
    }
   ],
   "source": [
    "fig = plt.gcf()\n",
    "fig, ax = plt.subplots()\n",
    "fig.set_size_inches(12, 12)\n",
    "\n",
    "# ax.scatter(offset[:, 0], offset[:, 1], c = \"r\", marker=\"s\",  s=50)\n",
    "ax.scatter(test[:, 0], test[:, 1], c = \"r\", marker=\"s\",  s=50)\n",
    "\n",
    "# ax.scatter(hull[:, 0], hull[:, 1], c = \"r\")\n",
    "\n",
    "ax.scatter(rot_hull[:, 0], rot_hull[:, 1], c = \"b\", marker=\"o\",  s=50)\n",
    "ax.scatter(pucks_in_frame[:, 0], pucks_in_frame[:, 1], c = \"g\", marker=\"x\",  s=200)\n",
    "ax.scatter(candidates[:, 0], candidates[:, 1], c = \"r\", marker=\"x\",  s=400)\n",
    "\n",
    "for landing in landings:\n",
    "    # print(landing)\n",
    "    x = landing[0]\n",
    "    y = landing[1]\n",
    "    theta = landing[2]\n",
    "    # print(theta)\n",
    "    plot_vehicle(x, y, theta)\n",
    "\n",
    "# for rot, ofs in zip(rot_hull, offset):\n",
    "#     # print(rot, ofs)\n",
    "#     x = [rot[0], ofs[0]]\n",
    "#     y = [rot[1], ofs[1]]\n",
    "#     ax.plot(x, y)\n",
    "\n",
    "# landings2 = list(landings)\n",
    "# for i in landings2:\n",
    "#     print(\"i is\")\n",
    "#     print(i)\n",
    "#     print(\"\")\n",
    "    #ax.plot(k+mc[0], np.tan(i[2])*k+mc[1])\n",
    "    \n",
    "#ax.scatter(offset[:, 0], offset[:, 1], c = \"y\")\n",
    "ax.set_aspect('equal')\n",
    "plt.show()"
   ]
  },
  {
   "cell_type": "code",
   "execution_count": 8,
   "metadata": {},
   "outputs": [
    {
     "data": {
      "text/plain": [
       "<matplotlib.figure.Figure at 0x7f8f54a6f210>"
      ]
     },
     "metadata": {},
     "output_type": "display_data"
    },
    {
     "data": {
      "image/png": "[encoded data removed]",
      "text/plain": [
       "<matplotlib.figure.Figure at 0x7f8f54a6f1d0>"
      ]
     },
     "metadata": {},
     "output_type": "display_data"
    }
   ],
   "source": [
    "fig = plt.gcf()\n",
    "fig, ax = plt.subplots()\n",
    "fig.set_size_inches(10, 10)\n",
    "\n",
    "landing = np.array([0, 0, 1.57])\n",
    "x = landing[0]\n",
    "y = landing[1]\n",
    "theta = landing[2]\n",
    "    \n",
    "plot_vehicle(x, y, theta)\n",
    "\n",
    "ax.set_aspect('equal')\n",
    "plt.grid()\n",
    "plt.show()"
   ]
  },
  {
   "cell_type": "code",
   "execution_count": 9,
   "metadata": {},
   "outputs": [],
   "source": [
    "# from math import tan\n",
    "# fig = plt.gcf()\n",
    "# fig, ax = plt.subplots()\n",
    "# for i in landings2:\n",
    "#     print(\"i is\")\n",
    "#     print(tan(i[2]))\n",
    "#     print(\"\")\n",
    "#     ax.plot(t+mc[0], tan(i[2])*t+mc[1])\n",
    "    \n",
    "# #ax.scatter(offset[:, 0], offset[:, 1], c = \"y\")\n",
    "\n",
    "# plt.show()"
   ]
  },
  {
   "cell_type": "markdown",
   "metadata": {},
   "source": [
    "            # a = self.known_coords_of_chaos_pucks\n",
    "            # b = self.sorted_chaos_landing_coordinates\n",
    "            # a, b = self.execute_current_puck_cmd(a, b)\n",
    "            # this doesn't work"
   ]
  },
  {
   "cell_type": "code",
   "execution_count": 3,
   "metadata": {},
   "outputs": [],
   "source": [
    "candidates = np.array([[ 0.83128354,  1.18589557,  5.38712992], \n",
    "                         [ 0.96871646,  1.01410443,  5.38712992], \n",
    "                         [ 1.16871646,  0.76410443,  2.24553727], \n",
    "                         [ 1.03128354,  0.93589557,  2.24553727]])"
   ]
  },
  {
   "cell_type": "code",
   "execution_count": 13,
   "metadata": {},
   "outputs": [
    {
     "data": {
      "text/plain": [
       "array([[ 0.83128354,  1.18589557],\n",
       "       [ 0.96871646,  1.01410443],\n",
       "       [ 1.16871646,  0.76410443],\n",
       "       [ 1.03128354,  0.93589557]])"
      ]
     },
     "execution_count": 13,
     "metadata": {},
     "output_type": "execute_result"
    }
   ],
   "source": [
    "candidates[:, :2]"
   ]
  },
  {
   "cell_type": "code",
   "execution_count": 20,
   "metadata": {},
   "outputs": [
    {
     "data": {
      "text/plain": [
       "[array([ 1.03128354,  0.93589557]), array([ 0.83128354,  1.18589557])]"
      ]
     },
     "execution_count": 20,
     "metadata": {},
     "output_type": "execute_result"
    }
   ],
   "source": [
    "indexes = []\n",
    "test = list(candidates[:, :2])\n",
    "test.sort(key = lambda (t, k): t**2 + k**2)\n",
    "# landing_max = candidates[:, :2].sort(key = lambda t, k: t**2 + k**2, reverse=True)\n",
    "indexes.append(test[0])\n",
    "indexes.append(test[-1])\n",
    "indexes"
   ]
  },
  {
   "cell_type": "code",
   "execution_count": 39,
   "metadata": {},
   "outputs": [],
   "source": [
    "def wrap_angle(angle):\n",
    "\n",
    "    \"\"\"\n",
    "    Wraps the given angle to the range [-pi, +pi].\n",
    "    :param angle: The angle (in rad) to wrap (can be unbounded).\n",
    "    :return: The wrapped angle (guaranteed to in [-pi, +pi]).\n",
    "    \"\"\"\n",
    "\n",
    "    return (angle + np.pi) % (2 * np.pi) - np.pi\n",
    "\n",
    "\n",
    "def wrap_back(angle):\n",
    "    \"\"\"\n",
    "    :param angle: (-pi, pi)\n",
    "    :return: (0, 2*pi)\n",
    "    \"\"\"\n",
    "    return (angle + 2 * np.pi) % (2 * np.pi)\n",
    "\n",
    "\n",
    "def calculate_distance(coords1, coords2):\n",
    "    \"\"\"\n",
    "    Calculates x_diff, y_diff between two points\n",
    "    Calculates x_diff, y_diff and theta_diff between two vectors and wrapes angle so it lies\n",
    "    :param coords1:\n",
    "    :param coords2:\n",
    "    :return:\n",
    "    \"\"\"\n",
    "    #print(coords1)\n",
    "    #print(coords2)\n",
    "    theta_diff = None\n",
    "    # distance_map_frame = coords2[:2] - coords1[:2]\n",
    "    distance_map_frame = coords2[:, :2] - coords1[:, :2]\n",
    "\n",
    "    if len(coords1) == 3 and len(coords2) == 3:\n",
    "        theta_diff = wrap_angle(coords2[2] - coords1[2])\n",
    "    return distance_map_frame, theta_diff"
   ]
  },
  {
   "cell_type": "code",
   "execution_count": 20,
   "metadata": {},
   "outputs": [],
   "source": [
    "coords = np.array([[0.7, 0.8, 0, 0],\n",
    "                    [0.8, 0.9, 1, 0],\n",
    "                    [0.9, 0.85, 2, 0],\n",
    "                    [1, 1.1, 3, 0]])"
   ]
  },
  {
   "cell_type": "markdown",
   "metadata": {},
   "source": [
    "наоборот"
   ]
  },
  {
   "cell_type": "markdown",
   "metadata": {},
   "source": [
    "103\n",
    "210\n",
    "321\n",
    "032"
   ]
  },
  {
   "cell_type": "code",
   "execution_count": 7,
   "metadata": {},
   "outputs": [
    {
     "data": {
      "text/plain": [
       "array([[0.9 , 1.1 , 3.  , 0.  ],\n",
       "       [0.7 , 0.8 , 0.  , 0.  ],\n",
       "       [0.9 , 0.9 , 1.  , 0.  ],\n",
       "       [1.1 , 0.85, 2.  , 0.  ]])"
      ]
     },
     "execution_count": 7,
     "metadata": {},
     "output_type": "execute_result"
    }
   ],
   "source": [
    "a = np.roll(pucks_in_frame, 1, axis=0)\n",
    "a"
   ]
  },
  {
   "cell_type": "code",
   "execution_count": 85,
   "metadata": {},
   "outputs": [],
   "source": [
    "def calc_inner_angles(coords):\n",
    "    next_ = np.roll(coords, -1, axis=0)\n",
    "    prev_ = np.roll(coords, 1, axis=0)\n",
    "    prev_dist, _ = calculate_distance(coords[:, :2], prev_[:, :2])\n",
    "    next_dist, _ = calculate_distance(coords[:, :2], next_[:, :2])\n",
    "    prev_a = np.arctan2(prev_dist[:, 1], prev_dist[:, 0])\n",
    "    next_a = np.arctan2(next_dist[:, 1], next_dist[:, 0])\n",
    "    angles = wrap_angle(prev_a - next_a)\n",
    "    #angles = next_a - prev_a\n",
    "\n",
    "    coords_angles = list(zip(coords, angles))\n",
    "    coords_angles.sort(key = lambda t: t[1])\n",
    "    \n",
    "    # coords_angles = np.array(coords_angles)\n",
    "    print(\"coords\")\n",
    "    print(coords)\n",
    "    \n",
    "    print(\"prev_\")\n",
    "    #print(prev_)\n",
    "    print(prev_[:, :2])\n",
    "    print(\"next\")\n",
    "    print(next_)\n",
    "    \n",
    "    print(\" \")\n",
    "    print(\"prev_dist\")\n",
    "    print(prev_dist)\n",
    "    print(\"prev_dist[:, 1]\")\n",
    "    print(prev_dist[:, 1])\n",
    "    print(\" \")\n",
    "    print(\"next_dist\")\n",
    "    print(next_dist)\n",
    "    \n",
    "    print(\"prev_a\")\n",
    "    print(prev_a)\n",
    "\n",
    "    return coords_angles"
   ]
  },
  {
   "cell_type": "code",
   "execution_count": 84,
   "metadata": {},
   "outputs": [
    {
     "name": "stdout",
     "output_type": "stream",
     "text": [
      "coords\n",
      "[[0.7  0.8  0.   0.  ]\n",
      " [0.8  0.9  1.   0.  ]\n",
      " [0.9  0.85 2.   0.  ]\n",
      " [1.   1.1  3.   0.  ]]\n",
      "prev_\n",
      "[[1.   1.1 ]\n",
      " [0.7  0.8 ]\n",
      " [0.8  0.9 ]\n",
      " [0.9  0.85]]\n",
      "next\n",
      "[[0.8  0.9  1.   0.  ]\n",
      " [0.9  0.85 2.   0.  ]\n",
      " [1.   1.1  3.   0.  ]\n",
      " [0.7  0.8  0.   0.  ]]\n",
      " \n",
      "prev_dist\n",
      "[[-0.3  -0.3 ]\n",
      " [ 0.1   0.1 ]\n",
      " [ 0.1  -0.05]\n",
      " [ 0.1   0.25]]\n",
      "prev_dist[:, 1]\n",
      "[-0.3   0.1  -0.05  0.25]\n",
      " \n",
      "next_dist\n",
      "[[ 0.1   0.1 ]\n",
      " [ 0.1  -0.05]\n",
      " [ 0.1   0.25]\n",
      " [-0.3  -0.3 ]]\n",
      "prev_a\n",
      "[-2.35619449  0.78539816 -0.46364761  1.19028995]\n"
     ]
    },
    {
     "data": {
      "text/plain": [
       "[(array([0.7, 0.8, 0. , 0. ]), -3.1415926535897927),\n",
       " (array([1. , 1.1, 3. , 0. ]), -2.7367008673047097),\n",
       " (array([0.9 , 0.85, 2.  , 0.  ]), -1.6539375586833385),\n",
       " (array([0.8, 0.9, 1. , 0. ]), 1.2490457723982544)]"
      ]
     },
     "execution_count": 84,
     "metadata": {},
     "output_type": "execute_result"
    }
   ],
   "source": [
    "c = calc_inner_angles(coords)\n",
    "c"
   ]
  },
  {
   "cell_type": "code",
   "execution_count": 51,
   "metadata": {},
   "outputs": [
    {
     "data": {
      "text/plain": [
       "<matplotlib.figure.Figure at 0x115f49198>"
      ]
     },
     "metadata": {},
     "output_type": "display_data"
    },
    {
     "data": {
      "image/png": "[encoded data removed]",
      "text/plain": [
       "<matplotlib.figure.Figure at 0x1159c8b70>"
      ]
     },
     "metadata": {},
     "output_type": "display_data"
    }
   ],
   "source": [
    "a = coords[:, :2]\n",
    "\n",
    "def transformation_matrix(x, y, theta):\n",
    "    return np.array([[np.cos(theta), -np.sin(theta), x],\n",
    "                     [np.sin(theta), np.cos(theta), y],\n",
    "                     [0, 0, 1]])\n",
    "\n",
    "def plot_vehicle(x, y, theta):\n",
    "    # Corners of triangular vehicle when pointing to the right (0 radians)\n",
    "\n",
    "    p1_i = np.array([0.03, 0, 1]).T\n",
    "    p2_i = np.array([-0.02, 0.01, 1]).T\n",
    "    p3_i = np.array([-0.02, -0.01, 1]).T\n",
    "\n",
    "    T = transformation_matrix(x, y, theta)\n",
    "    p1 = np.matmul(T, p1_i)\n",
    "    p2 = np.matmul(T, p2_i)\n",
    "    p3 = np.matmul(T, p3_i)\n",
    "\n",
    "    ax.plot([p1[0], p2[0]], [p1[1], p2[1]], 'g-')\n",
    "    ax.plot([p2[0], p3[0]], [p2[1], p3[1]], 'g-')\n",
    "    ax.plot([p3[0], p1[0]], [p3[1], p1[1]], 'g-')\n",
    "    \n",
    "fig = plt.gcf()\n",
    "fig, ax = plt.subplots()\n",
    "fig.set_size_inches(6, 6)\n",
    "\n",
    "# ax.scatter(offset[:, 0], offset[:, 1], c = \"r\", marker=\"s\",  s=50)\n",
    "#ax.scatter(test[:, 0], test[:, 1], c = \"r\", marker=\"s\",  s=50)\n",
    "\n",
    "#ax.scatter(rot_hull[:, 0], rot_hull[:, 1], c = \"b\", marker=\"o\",  s=50)\n",
    "ax.scatter(a[:, 0], a[:, 1], c = \"g\", marker=\"x\",  s=200)\n",
    "#ax.scatter(candidates[:, 0], candidates[:, 1], c = \"r\", marker=\"x\",  s=400)\n",
    "\n",
    "# for landing in landings:\n",
    "#     # print(landing)\n",
    "#     x = landing[0]\n",
    "#     y = landing[1]\n",
    "#     theta = landing[2]\n",
    "#     # print(theta)\n",
    "#     plot_vehicle(x, y, theta)\n",
    "    \n",
    "#ax.scatter(offset[:, 0], offset[:, 1], c = \"y\")\n",
    "ax.set_aspect('equal')\n",
    "plt.grid()\n",
    "plt.show()"
   ]
  },
  {
   "cell_type": "code",
   "execution_count": null,
   "metadata": {},
   "outputs": [],
   "source": [
    "[(array([0.7, 0.8, 0. , 0. ]), -3.141592653589793),\n",
    " (array([0.8, 0.9, 1. , 0. ]), -1.2490457723982542),\n",
    " (array([0.9 , 0.85, 2.  , 0.  ]), 1.6539375586833387),\n",
    " (array([1. , 1.1, 3. , 0. ]), 2.7367008673047097)]"
   ]
  }
 ],
 "metadata": {
  "kernelspec": {
   "display_name": "Python 3",
   "language": "python",
   "name": "python3"
  },
  "language_info": {
   "codemirror_mode": {
    "name": "ipython",
    "version": 3
   },
   "file_extension": ".py",
   "mimetype": "text/x-python",
   "name": "python",
   "nbconvert_exporter": "python",
   "pygments_lexer": "ipython3",
   "version": "3.6.1"
  }
 },
 "nbformat": 4,
 "nbformat_minor": 2
}
